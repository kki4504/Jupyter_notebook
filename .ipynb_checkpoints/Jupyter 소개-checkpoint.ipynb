{
 "cells": [
  {
   "cell_type": "markdown",
   "id": "77b36f71",
   "metadata": {},
   "source": [
    "# Jupyter Notebook 소개\n",
    "## Code Cell 과 Markdown Cell\n",
    "### Code Cell\n",
    "### Markdown Cell\n",
    "\n",
    "마지막에 두번 space 줄바꿈  \n",
    "마지막에 두번 space 줄바꿈\n",
    "\n",
    "* 오잉\n",
    "* 오잉\n",
    "1.**진하게 나타나고**  \n",
    "2.*기울여쓰기 하고*  \n",
    "[영진전문대](http://computer.yju.ac.kr)\n",
    "\n",
    "| 이 름 | 학 번 | 성 별 |   \n",
    "| ----- | :--------: | :-------: |   \n",
    "| 김광일 | 1701232  | 남 |  \n"
   ]
  },
  {
   "cell_type": "markdown",
   "id": "cf940da1",
   "metadata": {},
   "source": [
    "print('Hello World!')"
   ]
  },
  {
   "cell_type": "markdown",
   "id": "6e011e7e",
   "metadata": {},
   "source": [
    "# This is an H!"
   ]
  },
  {
   "cell_type": "markdown",
   "id": "548b2e3c",
   "metadata": {},
   "source": [
    "# this is a H1d"
   ]
  },
  {
   "cell_type": "code",
   "execution_count": 1,
   "id": "182ccd50",
   "metadata": {},
   "outputs": [
    {
     "data": {
      "text/plain": [
       "'Hello! kki'"
      ]
     },
     "execution_count": 1,
     "metadata": {},
     "output_type": "execute_result"
    }
   ],
   "source": [
    "import time;\n",
    "time.sleep(3);\n",
    "\n",
    "def say_hello(receipent):\n",
    "    return 'Hello! {}'.format(receipent)\n",
    "say_hello('kki')"
   ]
  },
  {
   "cell_type": "markdown",
   "id": "28fd4daa",
   "metadata": {},
   "source": [
    "And finally, adding images is easy: ![Alt text](http://localhost:8888/static/base/images/logo.png?v=a2a176ee3cee251ffddf5fa21fe8e43727a9e5f87a06f9c91ad7b776d9e9d3d5e0159c16cc188a3965e00375fb4bc336c16067c688f5040c0c2d4bfdb852a9e4)\n",
    "\n",
    "```\n",
    "bar()\n",
    "``` "
   ]
  },
  {
   "cell_type": "code",
   "execution_count": 3,
   "id": "d33bf034",
   "metadata": {},
   "outputs": [],
   "source": [
    "name=\"홍길동\""
   ]
  },
  {
   "cell_type": "code",
   "execution_count": 4,
   "id": "23cde8bf",
   "metadata": {
    "scrolled": true
   },
   "outputs": [
    {
     "name": "stdout",
     "output_type": "stream",
     "text": [
      "홍길동\n"
     ]
    }
   ],
   "source": [
    "print(name)"
   ]
  },
  {
   "cell_type": "code",
   "execution_count": 5,
   "id": "182ed60d",
   "metadata": {},
   "outputs": [],
   "source": [
    "import numpy as np\n",
    "def square(x):\n",
    "    return x * x"
   ]
  },
  {
   "cell_type": "code",
   "execution_count": 6,
   "id": "a827b799",
   "metadata": {},
   "outputs": [
    {
     "name": "stdout",
     "output_type": "stream",
     "text": [
      "3 suared is 9\n"
     ]
    }
   ],
   "source": [
    "x = np.random.randint(1,10)\n",
    "y = square(x)\n",
    "print('%d suared is %d' % (x, y))"
   ]
  },
  {
   "cell_type": "code",
   "execution_count": 7,
   "id": "1fed0f67",
   "metadata": {},
   "outputs": [],
   "source": [
    "%matplotlib inline\n",
    "import pandas as pd\n",
    "import matplotlib.pyplot as plt\n",
    "import seaborn as sns\n",
    "sns.set(style=\"darkgrid\")"
   ]
  },
  {
   "cell_type": "code",
   "execution_count": 9,
   "id": "3ad3d5a8",
   "metadata": {},
   "outputs": [],
   "source": [
    "df = pd.read_csv('fortune500.csv')"
   ]
  }
 ],
 "metadata": {
  "kernelspec": {
   "display_name": "Python 3",
   "language": "python",
   "name": "python3"
  },
  "language_info": {
   "codemirror_mode": {
    "name": "ipython",
    "version": 3
   },
   "file_extension": ".py",
   "mimetype": "text/x-python",
   "name": "python",
   "nbconvert_exporter": "python",
   "pygments_lexer": "ipython3",
   "version": "3.8.8"
  }
 },
 "nbformat": 4,
 "nbformat_minor": 5
}

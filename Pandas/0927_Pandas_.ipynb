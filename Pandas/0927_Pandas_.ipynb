{
 "cells": [
  {
   "cell_type": "code",
   "execution_count": 1,
   "id": "840fcabb",
   "metadata": {},
   "outputs": [],
   "source": [
    "import pandas as pd"
   ]
  },
  {
   "cell_type": "code",
   "execution_count": 22,
   "id": "a60ee914",
   "metadata": {},
   "outputs": [],
   "source": [
    "people = {\n",
    "    \"first\" : [\"Gildong\", \"Chunhyang\", \"Mongryoung\"],\n",
    "    \"last\" : [\"Hong\", \"Sung\", \"Lee\"],\n",
    "    \"email\" : [\"gdhong@gmail.com\", \"chsung@gmail.com\", \"mrlee@gmail.com\"]\n",
    "}"
   ]
  },
  {
   "cell_type": "code",
   "execution_count": 51,
   "id": "ca5f6a02",
   "metadata": {},
   "outputs": [],
   "source": [
    "df = pd.DataFrame(people)"
   ]
  },
  {
   "cell_type": "code",
   "execution_count": 4,
   "id": "3d8eb3c7",
   "metadata": {
    "scrolled": false
   },
   "outputs": [
    {
     "data": {
      "text/html": [
       "<div>\n",
       "<style scoped>\n",
       "    .dataframe tbody tr th:only-of-type {\n",
       "        vertical-align: middle;\n",
       "    }\n",
       "\n",
       "    .dataframe tbody tr th {\n",
       "        vertical-align: top;\n",
       "    }\n",
       "\n",
       "    .dataframe thead th {\n",
       "        text-align: right;\n",
       "    }\n",
       "</style>\n",
       "<table border=\"1\" class=\"dataframe\">\n",
       "  <thead>\n",
       "    <tr style=\"text-align: right;\">\n",
       "      <th></th>\n",
       "      <th>first</th>\n",
       "      <th>last</th>\n",
       "      <th>email</th>\n",
       "    </tr>\n",
       "  </thead>\n",
       "  <tbody>\n",
       "    <tr>\n",
       "      <th>0</th>\n",
       "      <td>Gildong</td>\n",
       "      <td>Hong</td>\n",
       "      <td>gdhong@gmail.com</td>\n",
       "    </tr>\n",
       "    <tr>\n",
       "      <th>1</th>\n",
       "      <td>Chunhyang</td>\n",
       "      <td>Sung</td>\n",
       "      <td>chsung@gmail.com</td>\n",
       "    </tr>\n",
       "    <tr>\n",
       "      <th>2</th>\n",
       "      <td>Mongryoung</td>\n",
       "      <td>Lee</td>\n",
       "      <td>mrlee@gmail.com</td>\n",
       "    </tr>\n",
       "  </tbody>\n",
       "</table>\n",
       "</div>"
      ],
      "text/plain": [
       "        first  last             email\n",
       "0     Gildong  Hong  gdhong@gmail.com\n",
       "1   Chunhyang  Sung  chsung@gmail.com\n",
       "2  Mongryoung   Lee   mrlee@gmail.com"
      ]
     },
     "execution_count": 4,
     "metadata": {},
     "output_type": "execute_result"
    }
   ],
   "source": [
    "df"
   ]
  },
  {
   "cell_type": "code",
   "execution_count": 5,
   "id": "5a420332",
   "metadata": {},
   "outputs": [
    {
     "data": {
      "text/plain": [
       "0    gdhong@gmail.com\n",
       "1    chsung@gmail.com\n",
       "2     mrlee@gmail.com\n",
       "Name: email, dtype: object"
      ]
     },
     "execution_count": 5,
     "metadata": {},
     "output_type": "execute_result"
    }
   ],
   "source": [
    "df['email']"
   ]
  },
  {
   "cell_type": "code",
   "execution_count": 7,
   "id": "458677b7",
   "metadata": {},
   "outputs": [
    {
     "data": {
      "text/html": [
       "<div>\n",
       "<style scoped>\n",
       "    .dataframe tbody tr th:only-of-type {\n",
       "        vertical-align: middle;\n",
       "    }\n",
       "\n",
       "    .dataframe tbody tr th {\n",
       "        vertical-align: top;\n",
       "    }\n",
       "\n",
       "    .dataframe thead th {\n",
       "        text-align: right;\n",
       "    }\n",
       "</style>\n",
       "<table border=\"1\" class=\"dataframe\">\n",
       "  <thead>\n",
       "    <tr style=\"text-align: right;\">\n",
       "      <th></th>\n",
       "      <th>last</th>\n",
       "      <th>email</th>\n",
       "    </tr>\n",
       "  </thead>\n",
       "  <tbody>\n",
       "    <tr>\n",
       "      <th>0</th>\n",
       "      <td>Hong</td>\n",
       "      <td>gdhong@gmail.com</td>\n",
       "    </tr>\n",
       "    <tr>\n",
       "      <th>1</th>\n",
       "      <td>Sung</td>\n",
       "      <td>chsung@gmail.com</td>\n",
       "    </tr>\n",
       "    <tr>\n",
       "      <th>2</th>\n",
       "      <td>Lee</td>\n",
       "      <td>mrlee@gmail.com</td>\n",
       "    </tr>\n",
       "  </tbody>\n",
       "</table>\n",
       "</div>"
      ],
      "text/plain": [
       "   last             email\n",
       "0  Hong  gdhong@gmail.com\n",
       "1  Sung  chsung@gmail.com\n",
       "2   Lee   mrlee@gmail.com"
      ]
     },
     "execution_count": 7,
     "metadata": {},
     "output_type": "execute_result"
    }
   ],
   "source": [
    "df[['last', 'email']]"
   ]
  },
  {
   "cell_type": "code",
   "execution_count": 6,
   "id": "f230d49b",
   "metadata": {
    "scrolled": false
   },
   "outputs": [
    {
     "data": {
      "text/plain": [
       "pandas.core.series.Series"
      ]
     },
     "execution_count": 6,
     "metadata": {},
     "output_type": "execute_result"
    }
   ],
   "source": [
    "type(df['email'])"
   ]
  },
  {
   "cell_type": "code",
   "execution_count": 8,
   "id": "dce31cc8",
   "metadata": {
    "scrolled": true
   },
   "outputs": [
    {
     "data": {
      "text/plain": [
       "pandas.core.frame.DataFrame"
      ]
     },
     "execution_count": 8,
     "metadata": {},
     "output_type": "execute_result"
    }
   ],
   "source": [
    "type(df[['last', 'email']])"
   ]
  },
  {
   "cell_type": "markdown",
   "id": "1a94c427",
   "metadata": {},
   "source": [
    "사본에 대해서 upper"
   ]
  },
  {
   "cell_type": "code",
   "execution_count": 11,
   "id": "7a00328a",
   "metadata": {},
   "outputs": [
    {
     "data": {
      "text/plain": [
       "0    HONG\n",
       "1    SUNG\n",
       "2     LEE\n",
       "Name: last, dtype: object"
      ]
     },
     "execution_count": 11,
     "metadata": {},
     "output_type": "execute_result"
    }
   ],
   "source": [
    "df['last'].str.upper()"
   ]
  },
  {
   "cell_type": "code",
   "execution_count": 12,
   "id": "8da09d48",
   "metadata": {
    "scrolled": false
   },
   "outputs": [
    {
     "data": {
      "text/html": [
       "<div>\n",
       "<style scoped>\n",
       "    .dataframe tbody tr th:only-of-type {\n",
       "        vertical-align: middle;\n",
       "    }\n",
       "\n",
       "    .dataframe tbody tr th {\n",
       "        vertical-align: top;\n",
       "    }\n",
       "\n",
       "    .dataframe thead th {\n",
       "        text-align: right;\n",
       "    }\n",
       "</style>\n",
       "<table border=\"1\" class=\"dataframe\">\n",
       "  <thead>\n",
       "    <tr style=\"text-align: right;\">\n",
       "      <th></th>\n",
       "      <th>first</th>\n",
       "      <th>last</th>\n",
       "      <th>email</th>\n",
       "    </tr>\n",
       "  </thead>\n",
       "  <tbody>\n",
       "    <tr>\n",
       "      <th>0</th>\n",
       "      <td>Gildong</td>\n",
       "      <td>Hong</td>\n",
       "      <td>gdhong@gmail.com</td>\n",
       "    </tr>\n",
       "    <tr>\n",
       "      <th>1</th>\n",
       "      <td>Chunhyang</td>\n",
       "      <td>Sung</td>\n",
       "      <td>chsung@gmail.com</td>\n",
       "    </tr>\n",
       "    <tr>\n",
       "      <th>2</th>\n",
       "      <td>Mongryoung</td>\n",
       "      <td>Lee</td>\n",
       "      <td>mrlee@gmail.com</td>\n",
       "    </tr>\n",
       "  </tbody>\n",
       "</table>\n",
       "</div>"
      ],
      "text/plain": [
       "        first  last             email\n",
       "0     Gildong  Hong  gdhong@gmail.com\n",
       "1   Chunhyang  Sung  chsung@gmail.com\n",
       "2  Mongryoung   Lee   mrlee@gmail.com"
      ]
     },
     "execution_count": 12,
     "metadata": {},
     "output_type": "execute_result"
    }
   ],
   "source": [
    "df"
   ]
  },
  {
   "cell_type": "markdown",
   "id": "4a631ae3",
   "metadata": {},
   "source": [
    "원본의 'last'칼럼 값들을 모두 대문자로 변경하고자 한다면?"
   ]
  },
  {
   "cell_type": "code",
   "execution_count": 27,
   "id": "6c84b867",
   "metadata": {
    "scrolled": false
   },
   "outputs": [],
   "source": [
    "df['last'] = df['last'].str.upper()"
   ]
  },
  {
   "cell_type": "code",
   "execution_count": 28,
   "id": "08eb2f13",
   "metadata": {
    "scrolled": true
   },
   "outputs": [
    {
     "data": {
      "text/html": [
       "<div>\n",
       "<style scoped>\n",
       "    .dataframe tbody tr th:only-of-type {\n",
       "        vertical-align: middle;\n",
       "    }\n",
       "\n",
       "    .dataframe tbody tr th {\n",
       "        vertical-align: top;\n",
       "    }\n",
       "\n",
       "    .dataframe thead th {\n",
       "        text-align: right;\n",
       "    }\n",
       "</style>\n",
       "<table border=\"1\" class=\"dataframe\">\n",
       "  <thead>\n",
       "    <tr style=\"text-align: right;\">\n",
       "      <th></th>\n",
       "      <th>first</th>\n",
       "      <th>last</th>\n",
       "      <th>email</th>\n",
       "    </tr>\n",
       "  </thead>\n",
       "  <tbody>\n",
       "    <tr>\n",
       "      <th>0</th>\n",
       "      <td>Gildong</td>\n",
       "      <td>HONG</td>\n",
       "      <td>gdhong@gmail.com</td>\n",
       "    </tr>\n",
       "    <tr>\n",
       "      <th>1</th>\n",
       "      <td>Chunhyang</td>\n",
       "      <td>SUNG</td>\n",
       "      <td>chsung@gmail.com</td>\n",
       "    </tr>\n",
       "    <tr>\n",
       "      <th>2</th>\n",
       "      <td>Mongryoung</td>\n",
       "      <td>LEE</td>\n",
       "      <td>mrlee@gmail.com</td>\n",
       "    </tr>\n",
       "  </tbody>\n",
       "</table>\n",
       "</div>"
      ],
      "text/plain": [
       "        first  last             email\n",
       "0     Gildong  HONG  gdhong@gmail.com\n",
       "1   Chunhyang  SUNG  chsung@gmail.com\n",
       "2  Mongryoung   LEE   mrlee@gmail.com"
      ]
     },
     "execution_count": 28,
     "metadata": {},
     "output_type": "execute_result"
    }
   ],
   "source": [
    "df"
   ]
  },
  {
   "cell_type": "code",
   "execution_count": 30,
   "id": "98d5513b",
   "metadata": {},
   "outputs": [
    {
     "data": {
      "text/plain": [
       "0    4\n",
       "1    4\n",
       "2    3\n",
       "Name: last, dtype: int64"
      ]
     },
     "execution_count": 30,
     "metadata": {},
     "output_type": "execute_result"
    }
   ],
   "source": [
    "df['last'].str.len()"
   ]
  },
  {
   "cell_type": "markdown",
   "id": "ea770f10",
   "metadata": {},
   "source": [
    "apply() 함수는 DataFrame 또는 Series의 각 값에 대해서 특정 함수를 정용하고자 할 때 사용될 수 있다."
   ]
  },
  {
   "cell_type": "code",
   "execution_count": 35,
   "id": "3d3bb7da",
   "metadata": {
    "scrolled": true
   },
   "outputs": [
    {
     "data": {
      "text/plain": [
       "0    HONG\n",
       "1    SUNG\n",
       "2     LEE\n",
       "Name: last, dtype: object"
      ]
     },
     "execution_count": 35,
     "metadata": {},
     "output_type": "execute_result"
    }
   ],
   "source": [
    "df['last'].apply(str.upper)"
   ]
  },
  {
   "cell_type": "markdown",
   "id": "2f31d3e8",
   "metadata": {},
   "source": [
    "str.upper 에서 upper 만 쓰고싶어서 upper함수를 만든다\n",
    "\n",
    "파이썬에서 함수는\n",
    "\n",
    "def 함수이름() :  \n",
    "&nbsp;&nbsp;&nbsp;&nbsp;함수구현."
   ]
  },
  {
   "cell_type": "code",
   "execution_count": 39,
   "id": "930be935",
   "metadata": {},
   "outputs": [],
   "source": [
    "def upper(strval) : \n",
    "    return strval.upper()\n",
    "def lower(strval) :\n",
    "    return strval.lower()"
   ]
  },
  {
   "cell_type": "code",
   "execution_count": 37,
   "id": "6e66a64d",
   "metadata": {},
   "outputs": [
    {
     "data": {
      "text/plain": [
       "0    HONG\n",
       "1    SUNG\n",
       "2     LEE\n",
       "Name: last, dtype: object"
      ]
     },
     "execution_count": 37,
     "metadata": {},
     "output_type": "execute_result"
    }
   ],
   "source": [
    "df['last'].apply(upper)"
   ]
  },
  {
   "cell_type": "code",
   "execution_count": 45,
   "id": "1cebbb03",
   "metadata": {
    "scrolled": true
   },
   "outputs": [
    {
     "data": {
      "text/html": [
       "<div>\n",
       "<style scoped>\n",
       "    .dataframe tbody tr th:only-of-type {\n",
       "        vertical-align: middle;\n",
       "    }\n",
       "\n",
       "    .dataframe tbody tr th {\n",
       "        vertical-align: top;\n",
       "    }\n",
       "\n",
       "    .dataframe thead th {\n",
       "        text-align: right;\n",
       "    }\n",
       "</style>\n",
       "<table border=\"1\" class=\"dataframe\">\n",
       "  <thead>\n",
       "    <tr style=\"text-align: right;\">\n",
       "      <th></th>\n",
       "      <th>first</th>\n",
       "      <th>last</th>\n",
       "      <th>email</th>\n",
       "    </tr>\n",
       "  </thead>\n",
       "  <tbody>\n",
       "    <tr>\n",
       "      <th>0</th>\n",
       "      <td>Gildong</td>\n",
       "      <td>hong</td>\n",
       "      <td>gdhong@gmail.com</td>\n",
       "    </tr>\n",
       "    <tr>\n",
       "      <th>1</th>\n",
       "      <td>Chunhyang</td>\n",
       "      <td>sung</td>\n",
       "      <td>chsung@gmail.com</td>\n",
       "    </tr>\n",
       "    <tr>\n",
       "      <th>2</th>\n",
       "      <td>Mongryoung</td>\n",
       "      <td>lee</td>\n",
       "      <td>mrlee@gmail.com</td>\n",
       "    </tr>\n",
       "  </tbody>\n",
       "</table>\n",
       "</div>"
      ],
      "text/plain": [
       "        first  last             email\n",
       "0     Gildong  hong  gdhong@gmail.com\n",
       "1   Chunhyang  sung  chsung@gmail.com\n",
       "2  Mongryoung   lee   mrlee@gmail.com"
      ]
     },
     "execution_count": 45,
     "metadata": {},
     "output_type": "execute_result"
    }
   ],
   "source": [
    "df['last'] = df['last'].apply(lower)\n",
    "df"
   ]
  },
  {
   "cell_type": "code",
   "execution_count": 62,
   "id": "f8a5d3ac",
   "metadata": {},
   "outputs": [
    {
     "data": {
      "text/plain": [
       "0       Gildong\n",
       "1     Chunhyang\n",
       "2    Mongryoung\n",
       "Name: first, dtype: object"
      ]
     },
     "execution_count": 62,
     "metadata": {},
     "output_type": "execute_result"
    }
   ],
   "source": [
    "a = df['first']\n",
    "b = df['last']\n",
    "\n",
    "a, b = b, a"
   ]
  },
  {
   "cell_type": "code",
   "execution_count": 81,
   "id": "787f6c45",
   "metadata": {},
   "outputs": [
    {
     "data": {
      "text/plain": [
       "0    Hong\n",
       "1    Sung\n",
       "2     Lee\n",
       "3    None\n",
       "Name: last, dtype: object"
      ]
     },
     "execution_count": 81,
     "metadata": {},
     "output_type": "execute_result"
    }
   ],
   "source": [
    "df['last']"
   ]
  },
  {
   "cell_type": "code",
   "execution_count": 67,
   "id": "2ee4cf54",
   "metadata": {},
   "outputs": [
    {
     "data": {
      "text/plain": [
       "pandas.core.series.Series"
      ]
     },
     "execution_count": 67,
     "metadata": {},
     "output_type": "execute_result"
    }
   ],
   "source": [
    "type(a)"
   ]
  },
  {
   "cell_type": "code",
   "execution_count": 54,
   "id": "9a2fec04",
   "metadata": {
    "scrolled": true
   },
   "outputs": [
    {
     "data": {
      "text/html": [
       "<div>\n",
       "<style scoped>\n",
       "    .dataframe tbody tr th:only-of-type {\n",
       "        vertical-align: middle;\n",
       "    }\n",
       "\n",
       "    .dataframe tbody tr th {\n",
       "        vertical-align: top;\n",
       "    }\n",
       "\n",
       "    .dataframe thead th {\n",
       "        text-align: right;\n",
       "    }\n",
       "</style>\n",
       "<table border=\"1\" class=\"dataframe\">\n",
       "  <thead>\n",
       "    <tr style=\"text-align: right;\">\n",
       "      <th></th>\n",
       "      <th>first</th>\n",
       "      <th>last</th>\n",
       "      <th>email</th>\n",
       "    </tr>\n",
       "  </thead>\n",
       "  <tbody>\n",
       "    <tr>\n",
       "      <th>0</th>\n",
       "      <td>Gildong</td>\n",
       "      <td>Hong</td>\n",
       "      <td>Gildong</td>\n",
       "    </tr>\n",
       "    <tr>\n",
       "      <th>1</th>\n",
       "      <td>Chunhyang</td>\n",
       "      <td>Sung</td>\n",
       "      <td>Chunhyang</td>\n",
       "    </tr>\n",
       "    <tr>\n",
       "      <th>2</th>\n",
       "      <td>Mongryoung</td>\n",
       "      <td>Lee</td>\n",
       "      <td>Mongryoung</td>\n",
       "    </tr>\n",
       "  </tbody>\n",
       "</table>\n",
       "</div>"
      ],
      "text/plain": [
       "        first  last       email\n",
       "0     Gildong  Hong     Gildong\n",
       "1   Chunhyang  Sung   Chunhyang\n",
       "2  Mongryoung   Lee  Mongryoung"
      ]
     },
     "execution_count": 54,
     "metadata": {},
     "output_type": "execute_result"
    }
   ],
   "source": [
    "df"
   ]
  },
  {
   "cell_type": "code",
   "execution_count": 68,
   "id": "72663cac",
   "metadata": {
    "scrolled": true
   },
   "outputs": [
    {
     "data": {
      "text/plain": [
       "first    3\n",
       "last     3\n",
       "email    3\n",
       "dtype: int64"
      ]
     },
     "execution_count": 68,
     "metadata": {},
     "output_type": "execute_result"
    }
   ],
   "source": [
    "df.apply(len) \n",
    "# 데이터 행 갯수"
   ]
  },
  {
   "cell_type": "code",
   "execution_count": 69,
   "id": "8dca6f95",
   "metadata": {},
   "outputs": [],
   "source": [
    "df.loc[3] = ['chunhyang', None, 'chsung@gmail.com']"
   ]
  },
  {
   "cell_type": "code",
   "execution_count": 83,
   "id": "e18e50a8",
   "metadata": {},
   "outputs": [
    {
     "data": {
      "text/html": [
       "<div>\n",
       "<style scoped>\n",
       "    .dataframe tbody tr th:only-of-type {\n",
       "        vertical-align: middle;\n",
       "    }\n",
       "\n",
       "    .dataframe tbody tr th {\n",
       "        vertical-align: top;\n",
       "    }\n",
       "\n",
       "    .dataframe thead th {\n",
       "        text-align: right;\n",
       "    }\n",
       "</style>\n",
       "<table border=\"1\" class=\"dataframe\">\n",
       "  <thead>\n",
       "    <tr style=\"text-align: right;\">\n",
       "      <th></th>\n",
       "      <th>first</th>\n",
       "      <th>last</th>\n",
       "      <th>email</th>\n",
       "    </tr>\n",
       "  </thead>\n",
       "  <tbody>\n",
       "    <tr>\n",
       "      <th>0</th>\n",
       "      <td>Gildong</td>\n",
       "      <td>Hong</td>\n",
       "      <td>Gildong</td>\n",
       "    </tr>\n",
       "    <tr>\n",
       "      <th>1</th>\n",
       "      <td>Chunhyang</td>\n",
       "      <td>Sung</td>\n",
       "      <td>Chunhyang</td>\n",
       "    </tr>\n",
       "    <tr>\n",
       "      <th>2</th>\n",
       "      <td>Mongryoung</td>\n",
       "      <td>Lee</td>\n",
       "      <td>Mongryoung</td>\n",
       "    </tr>\n",
       "    <tr>\n",
       "      <th>3</th>\n",
       "      <td>chunhyang</td>\n",
       "      <td>None</td>\n",
       "      <td>chsung@gmail.com</td>\n",
       "    </tr>\n",
       "  </tbody>\n",
       "</table>\n",
       "</div>"
      ],
      "text/plain": [
       "        first  last             email\n",
       "0     Gildong  Hong           Gildong\n",
       "1   Chunhyang  Sung         Chunhyang\n",
       "2  Mongryoung   Lee        Mongryoung\n",
       "3   chunhyang  None  chsung@gmail.com"
      ]
     },
     "execution_count": 83,
     "metadata": {},
     "output_type": "execute_result"
    }
   ],
   "source": [
    "df"
   ]
  },
  {
   "cell_type": "code",
   "execution_count": 84,
   "id": "1993af50",
   "metadata": {
    "scrolled": true
   },
   "outputs": [
    {
     "data": {
      "text/plain": [
       "4"
      ]
     },
     "execution_count": 84,
     "metadata": {},
     "output_type": "execute_result"
    }
   ],
   "source": [
    "df['first'].count()"
   ]
  },
  {
   "cell_type": "markdown",
   "id": "0ad88667",
   "metadata": {},
   "source": [
    "select count(name) from members  \n",
    "SQL에서도 name 칼럼 값이 null 이면 카운팅에서 제외된다.  \n",
    "즉, members 테이블에 5개의 레코드가 있어도, 특정 하나의 레코드의 name 칼럼 값이 null이면  \n",
    "위 SQL문의 결과는 4가 반환된다.  \n",
    "이처럼, count() 마찬가지다.  \n",
    "  \n",
    "select count( * ) from members;"
   ]
  },
  {
   "cell_type": "code",
   "execution_count": 85,
   "id": "a15663be",
   "metadata": {},
   "outputs": [
    {
     "data": {
      "text/plain": [
       "first    4\n",
       "last     4\n",
       "email    4\n",
       "dtype: int64"
      ]
     },
     "execution_count": 85,
     "metadata": {},
     "output_type": "execute_result"
    }
   ],
   "source": [
    "df.apply(len)"
   ]
  },
  {
   "cell_type": "code",
   "execution_count": 86,
   "id": "6a5b2aa9",
   "metadata": {},
   "outputs": [
    {
     "data": {
      "text/plain": [
       "0    3\n",
       "1    3\n",
       "2    3\n",
       "3    3\n",
       "dtype: int64"
      ]
     },
     "execution_count": 86,
     "metadata": {},
     "output_type": "execute_result"
    }
   ],
   "source": [
    "df.apply(len, axis='columns')"
   ]
  },
  {
   "cell_type": "code",
   "execution_count": 87,
   "id": "c6992e57",
   "metadata": {},
   "outputs": [
    {
     "data": {
      "text/plain": [
       "first    4\n",
       "last     4\n",
       "email    4\n",
       "dtype: int64"
      ]
     },
     "execution_count": 87,
     "metadata": {},
     "output_type": "execute_result"
    }
   ],
   "source": [
    "df.apply(len, axis='index')"
   ]
  },
  {
   "cell_type": "code",
   "execution_count": 89,
   "id": "8669881d",
   "metadata": {},
   "outputs": [],
   "source": [
    "df.loc[3, 'last'] = 'Sung'"
   ]
  },
  {
   "cell_type": "code",
   "execution_count": 90,
   "id": "5c47d470",
   "metadata": {},
   "outputs": [
    {
     "data": {
      "text/plain": [
       "first    Chunhyang\n",
       "last          Hong\n",
       "email    Chunhyang\n",
       "dtype: object"
      ]
     },
     "execution_count": 90,
     "metadata": {},
     "output_type": "execute_result"
    }
   ],
   "source": [
    "df.apply(min)"
   ]
  },
  {
   "cell_type": "code",
   "execution_count": 91,
   "id": "2cca8a9d",
   "metadata": {},
   "outputs": [
    {
     "data": {
      "text/html": [
       "<div>\n",
       "<style scoped>\n",
       "    .dataframe tbody tr th:only-of-type {\n",
       "        vertical-align: middle;\n",
       "    }\n",
       "\n",
       "    .dataframe tbody tr th {\n",
       "        vertical-align: top;\n",
       "    }\n",
       "\n",
       "    .dataframe thead th {\n",
       "        text-align: right;\n",
       "    }\n",
       "</style>\n",
       "<table border=\"1\" class=\"dataframe\">\n",
       "  <thead>\n",
       "    <tr style=\"text-align: right;\">\n",
       "      <th></th>\n",
       "      <th>first</th>\n",
       "      <th>last</th>\n",
       "      <th>email</th>\n",
       "    </tr>\n",
       "  </thead>\n",
       "  <tbody>\n",
       "    <tr>\n",
       "      <th>0</th>\n",
       "      <td>Gildong</td>\n",
       "      <td>Hong</td>\n",
       "      <td>Gildong</td>\n",
       "    </tr>\n",
       "    <tr>\n",
       "      <th>1</th>\n",
       "      <td>Chunhyang</td>\n",
       "      <td>Sung</td>\n",
       "      <td>Chunhyang</td>\n",
       "    </tr>\n",
       "    <tr>\n",
       "      <th>2</th>\n",
       "      <td>Mongryoung</td>\n",
       "      <td>Lee</td>\n",
       "      <td>Mongryoung</td>\n",
       "    </tr>\n",
       "    <tr>\n",
       "      <th>3</th>\n",
       "      <td>chunhyang</td>\n",
       "      <td>Sung</td>\n",
       "      <td>chsung@gmail.com</td>\n",
       "    </tr>\n",
       "  </tbody>\n",
       "</table>\n",
       "</div>"
      ],
      "text/plain": [
       "        first  last             email\n",
       "0     Gildong  Hong           Gildong\n",
       "1   Chunhyang  Sung         Chunhyang\n",
       "2  Mongryoung   Lee        Mongryoung\n",
       "3   chunhyang  Sung  chsung@gmail.com"
      ]
     },
     "execution_count": 91,
     "metadata": {},
     "output_type": "execute_result"
    }
   ],
   "source": [
    "df"
   ]
  },
  {
   "cell_type": "code",
   "execution_count": 92,
   "id": "6ea2f72f",
   "metadata": {},
   "outputs": [
    {
     "data": {
      "text/plain": [
       "0    G\n",
       "1    C\n",
       "2    M\n",
       "3    .\n",
       "Name: email, dtype: object"
      ]
     },
     "execution_count": 92,
     "metadata": {},
     "output_type": "execute_result"
    }
   ],
   "source": [
    "df['email'].apply(min)"
   ]
  },
  {
   "cell_type": "markdown",
   "id": "d1922bbd",
   "metadata": {},
   "source": [
    "df.shot_value(by=\"columns_name\")\n"
   ]
  }
 ],
 "metadata": {
  "kernelspec": {
   "display_name": "Python 3",
   "language": "python",
   "name": "python3"
  },
  "language_info": {
   "codemirror_mode": {
    "name": "ipython",
    "version": 3
   },
   "file_extension": ".py",
   "mimetype": "text/x-python",
   "name": "python",
   "nbconvert_exporter": "python",
   "pygments_lexer": "ipython3",
   "version": "3.8.8"
  }
 },
 "nbformat": 4,
 "nbformat_minor": 5
}

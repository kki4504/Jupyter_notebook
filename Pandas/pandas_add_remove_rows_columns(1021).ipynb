{
 "cells": [
  {
   "cell_type": "markdown",
   "id": "8f0ef966",
   "metadata": {},
   "source": [
    "pandas에서 DataFrame의 행과 열을 추가 삭제하는 방법."
   ]
  },
  {
   "cell_type": "code",
   "execution_count": 1,
   "id": "a97d7263",
   "metadata": {},
   "outputs": [],
   "source": [
    "import pandas as pd"
   ]
  },
  {
   "cell_type": "code",
   "execution_count": 5,
   "id": "8d4a6057",
   "metadata": {},
   "outputs": [],
   "source": [
    "people = {\n",
    "    \"first\" : ['Gildong', 'Chunghyang', 'Mongryoung'],\n",
    "    \"last\" : ['Hong', 'Sung', 'Lee'],\n",
    "    \"email\" : ['gdhong@gmail.com', 'chsung@gmail.com', 'mrlee@gmail.com']\n",
    "}\n",
    "df = pd.DataFrame(people)"
   ]
  },
  {
   "cell_type": "code",
   "execution_count": 6,
   "id": "68b9f73d",
   "metadata": {},
   "outputs": [
    {
     "data": {
      "text/html": [
       "<div>\n",
       "<style scoped>\n",
       "    .dataframe tbody tr th:only-of-type {\n",
       "        vertical-align: middle;\n",
       "    }\n",
       "\n",
       "    .dataframe tbody tr th {\n",
       "        vertical-align: top;\n",
       "    }\n",
       "\n",
       "    .dataframe thead th {\n",
       "        text-align: right;\n",
       "    }\n",
       "</style>\n",
       "<table border=\"1\" class=\"dataframe\">\n",
       "  <thead>\n",
       "    <tr style=\"text-align: right;\">\n",
       "      <th></th>\n",
       "      <th>first</th>\n",
       "      <th>last</th>\n",
       "      <th>email</th>\n",
       "    </tr>\n",
       "  </thead>\n",
       "  <tbody>\n",
       "    <tr>\n",
       "      <th>0</th>\n",
       "      <td>Gildong</td>\n",
       "      <td>Hong</td>\n",
       "      <td>gdhong@gmail.com</td>\n",
       "    </tr>\n",
       "    <tr>\n",
       "      <th>1</th>\n",
       "      <td>Chunghyang</td>\n",
       "      <td>Sung</td>\n",
       "      <td>chsung@gmail.com</td>\n",
       "    </tr>\n",
       "    <tr>\n",
       "      <th>2</th>\n",
       "      <td>Mongryoung</td>\n",
       "      <td>Lee</td>\n",
       "      <td>mrlee@gmail.com</td>\n",
       "    </tr>\n",
       "  </tbody>\n",
       "</table>\n",
       "</div>"
      ],
      "text/plain": [
       "        first  last             email\n",
       "0     Gildong  Hong  gdhong@gmail.com\n",
       "1  Chunghyang  Sung  chsung@gmail.com\n",
       "2  Mongryoung   Lee   mrlee@gmail.com"
      ]
     },
     "execution_count": 6,
     "metadata": {},
     "output_type": "execute_result"
    }
   ],
   "source": [
    "df"
   ]
  },
  {
   "cell_type": "code",
   "execution_count": 8,
   "id": "3b8c1c28",
   "metadata": {},
   "outputs": [
    {
     "data": {
      "text/plain": [
       "0       Gildong Hong\n",
       "1    Chunghyang Sung\n",
       "2     Mongryoung Lee\n",
       "dtype: object"
      ]
     },
     "execution_count": 8,
     "metadata": {},
     "output_type": "execute_result"
    }
   ],
   "source": [
    "df['first'] + ' ' + df['last']"
   ]
  },
  {
   "cell_type": "markdown",
   "id": "4d27d39b",
   "metadata": {},
   "source": [
    "first 칼럼과 last 칼럼의 값을 합치고 그 결과를 추가되는 full_name 칼럼에 저장하자."
   ]
  },
  {
   "cell_type": "code",
   "execution_count": 9,
   "id": "36377604",
   "metadata": {},
   "outputs": [],
   "source": [
    "df['fullname'] = df['first'] + ' ' + df['last']"
   ]
  },
  {
   "cell_type": "code",
   "execution_count": 10,
   "id": "11991bbf",
   "metadata": {},
   "outputs": [
    {
     "data": {
      "text/html": [
       "<div>\n",
       "<style scoped>\n",
       "    .dataframe tbody tr th:only-of-type {\n",
       "        vertical-align: middle;\n",
       "    }\n",
       "\n",
       "    .dataframe tbody tr th {\n",
       "        vertical-align: top;\n",
       "    }\n",
       "\n",
       "    .dataframe thead th {\n",
       "        text-align: right;\n",
       "    }\n",
       "</style>\n",
       "<table border=\"1\" class=\"dataframe\">\n",
       "  <thead>\n",
       "    <tr style=\"text-align: right;\">\n",
       "      <th></th>\n",
       "      <th>first</th>\n",
       "      <th>last</th>\n",
       "      <th>email</th>\n",
       "      <th>fullname</th>\n",
       "    </tr>\n",
       "  </thead>\n",
       "  <tbody>\n",
       "    <tr>\n",
       "      <th>0</th>\n",
       "      <td>Gildong</td>\n",
       "      <td>Hong</td>\n",
       "      <td>gdhong@gmail.com</td>\n",
       "      <td>Gildong Hong</td>\n",
       "    </tr>\n",
       "    <tr>\n",
       "      <th>1</th>\n",
       "      <td>Chunghyang</td>\n",
       "      <td>Sung</td>\n",
       "      <td>chsung@gmail.com</td>\n",
       "      <td>Chunghyang Sung</td>\n",
       "    </tr>\n",
       "    <tr>\n",
       "      <th>2</th>\n",
       "      <td>Mongryoung</td>\n",
       "      <td>Lee</td>\n",
       "      <td>mrlee@gmail.com</td>\n",
       "      <td>Mongryoung Lee</td>\n",
       "    </tr>\n",
       "  </tbody>\n",
       "</table>\n",
       "</div>"
      ],
      "text/plain": [
       "        first  last             email         fullname\n",
       "0     Gildong  Hong  gdhong@gmail.com     Gildong Hong\n",
       "1  Chunghyang  Sung  chsung@gmail.com  Chunghyang Sung\n",
       "2  Mongryoung   Lee   mrlee@gmail.com   Mongryoung Lee"
      ]
     },
     "execution_count": 10,
     "metadata": {},
     "output_type": "execute_result"
    }
   ],
   "source": [
    "df"
   ]
  },
  {
   "cell_type": "code",
   "execution_count": 11,
   "id": "25dd3ebb",
   "metadata": {},
   "outputs": [
    {
     "data": {
      "text/html": [
       "<div>\n",
       "<style scoped>\n",
       "    .dataframe tbody tr th:only-of-type {\n",
       "        vertical-align: middle;\n",
       "    }\n",
       "\n",
       "    .dataframe tbody tr th {\n",
       "        vertical-align: top;\n",
       "    }\n",
       "\n",
       "    .dataframe thead th {\n",
       "        text-align: right;\n",
       "    }\n",
       "</style>\n",
       "<table border=\"1\" class=\"dataframe\">\n",
       "  <thead>\n",
       "    <tr style=\"text-align: right;\">\n",
       "      <th></th>\n",
       "      <th>email</th>\n",
       "      <th>fullname</th>\n",
       "    </tr>\n",
       "  </thead>\n",
       "  <tbody>\n",
       "    <tr>\n",
       "      <th>0</th>\n",
       "      <td>gdhong@gmail.com</td>\n",
       "      <td>Gildong Hong</td>\n",
       "    </tr>\n",
       "    <tr>\n",
       "      <th>1</th>\n",
       "      <td>chsung@gmail.com</td>\n",
       "      <td>Chunghyang Sung</td>\n",
       "    </tr>\n",
       "    <tr>\n",
       "      <th>2</th>\n",
       "      <td>mrlee@gmail.com</td>\n",
       "      <td>Mongryoung Lee</td>\n",
       "    </tr>\n",
       "  </tbody>\n",
       "</table>\n",
       "</div>"
      ],
      "text/plain": [
       "              email         fullname\n",
       "0  gdhong@gmail.com     Gildong Hong\n",
       "1  chsung@gmail.com  Chunghyang Sung\n",
       "2   mrlee@gmail.com   Mongryoung Lee"
      ]
     },
     "execution_count": 11,
     "metadata": {},
     "output_type": "execute_result"
    }
   ],
   "source": [
    "df.drop(columns = ['first', 'last'])"
   ]
  },
  {
   "cell_type": "markdown",
   "id": "2b2651eb",
   "metadata": {},
   "source": [
    "결과에 반영이 되지 않아 inplace해야함"
   ]
  },
  {
   "cell_type": "code",
   "execution_count": 12,
   "id": "b891e995",
   "metadata": {},
   "outputs": [],
   "source": [
    "df.drop(columns = ['first', 'last'], inplace=True)"
   ]
  },
  {
   "cell_type": "code",
   "execution_count": 13,
   "id": "4a6837e6",
   "metadata": {},
   "outputs": [
    {
     "data": {
      "text/html": [
       "<div>\n",
       "<style scoped>\n",
       "    .dataframe tbody tr th:only-of-type {\n",
       "        vertical-align: middle;\n",
       "    }\n",
       "\n",
       "    .dataframe tbody tr th {\n",
       "        vertical-align: top;\n",
       "    }\n",
       "\n",
       "    .dataframe thead th {\n",
       "        text-align: right;\n",
       "    }\n",
       "</style>\n",
       "<table border=\"1\" class=\"dataframe\">\n",
       "  <thead>\n",
       "    <tr style=\"text-align: right;\">\n",
       "      <th></th>\n",
       "      <th>email</th>\n",
       "      <th>fullname</th>\n",
       "    </tr>\n",
       "  </thead>\n",
       "  <tbody>\n",
       "    <tr>\n",
       "      <th>0</th>\n",
       "      <td>gdhong@gmail.com</td>\n",
       "      <td>Gildong Hong</td>\n",
       "    </tr>\n",
       "    <tr>\n",
       "      <th>1</th>\n",
       "      <td>chsung@gmail.com</td>\n",
       "      <td>Chunghyang Sung</td>\n",
       "    </tr>\n",
       "    <tr>\n",
       "      <th>2</th>\n",
       "      <td>mrlee@gmail.com</td>\n",
       "      <td>Mongryoung Lee</td>\n",
       "    </tr>\n",
       "  </tbody>\n",
       "</table>\n",
       "</div>"
      ],
      "text/plain": [
       "              email         fullname\n",
       "0  gdhong@gmail.com     Gildong Hong\n",
       "1  chsung@gmail.com  Chunghyang Sung\n",
       "2   mrlee@gmail.com   Mongryoung Lee"
      ]
     },
     "execution_count": 13,
     "metadata": {},
     "output_type": "execute_result"
    }
   ],
   "source": [
    "df"
   ]
  },
  {
   "cell_type": "markdown",
   "id": "63956520",
   "metadata": {},
   "source": [
    "fullname 칼럼 값을 ' ' 에 따라 나누고 싶을때"
   ]
  },
  {
   "cell_type": "code",
   "execution_count": 14,
   "id": "f5d3968c",
   "metadata": {},
   "outputs": [
    {
     "data": {
      "text/plain": [
       "0       [Gildong, Hong]\n",
       "1    [Chunghyang, Sung]\n",
       "2     [Mongryoung, Lee]\n",
       "Name: fullname, dtype: object"
      ]
     },
     "execution_count": 14,
     "metadata": {},
     "output_type": "execute_result"
    }
   ],
   "source": [
    "df['fullname'].str.split(' ')"
   ]
  },
  {
   "cell_type": "markdown",
   "id": "f88ec621",
   "metadata": {},
   "source": [
    "이렇게 분리된 값을 두개의 다른 칼럼에 할당하고자 한다면 expand인자를 사용한다."
   ]
  },
  {
   "cell_type": "code",
   "execution_count": 15,
   "id": "c32b7bb5",
   "metadata": {
    "scrolled": true
   },
   "outputs": [
    {
     "data": {
      "text/html": [
       "<div>\n",
       "<style scoped>\n",
       "    .dataframe tbody tr th:only-of-type {\n",
       "        vertical-align: middle;\n",
       "    }\n",
       "\n",
       "    .dataframe tbody tr th {\n",
       "        vertical-align: top;\n",
       "    }\n",
       "\n",
       "    .dataframe thead th {\n",
       "        text-align: right;\n",
       "    }\n",
       "</style>\n",
       "<table border=\"1\" class=\"dataframe\">\n",
       "  <thead>\n",
       "    <tr style=\"text-align: right;\">\n",
       "      <th></th>\n",
       "      <th>0</th>\n",
       "      <th>1</th>\n",
       "    </tr>\n",
       "  </thead>\n",
       "  <tbody>\n",
       "    <tr>\n",
       "      <th>0</th>\n",
       "      <td>Gildong</td>\n",
       "      <td>Hong</td>\n",
       "    </tr>\n",
       "    <tr>\n",
       "      <th>1</th>\n",
       "      <td>Chunghyang</td>\n",
       "      <td>Sung</td>\n",
       "    </tr>\n",
       "    <tr>\n",
       "      <th>2</th>\n",
       "      <td>Mongryoung</td>\n",
       "      <td>Lee</td>\n",
       "    </tr>\n",
       "  </tbody>\n",
       "</table>\n",
       "</div>"
      ],
      "text/plain": [
       "            0     1\n",
       "0     Gildong  Hong\n",
       "1  Chunghyang  Sung\n",
       "2  Mongryoung   Lee"
      ]
     },
     "execution_count": 15,
     "metadata": {},
     "output_type": "execute_result"
    }
   ],
   "source": [
    "df['fullname'].str.split(' ', expand=True)"
   ]
  },
  {
   "cell_type": "code",
   "execution_count": 16,
   "id": "0afff3f6",
   "metadata": {},
   "outputs": [],
   "source": [
    "df[['first', 'last']] = df['fullname'].str.split(' ', expand=True)"
   ]
  },
  {
   "cell_type": "code",
   "execution_count": 17,
   "id": "5eddd08e",
   "metadata": {
    "scrolled": true
   },
   "outputs": [
    {
     "data": {
      "text/html": [
       "<div>\n",
       "<style scoped>\n",
       "    .dataframe tbody tr th:only-of-type {\n",
       "        vertical-align: middle;\n",
       "    }\n",
       "\n",
       "    .dataframe tbody tr th {\n",
       "        vertical-align: top;\n",
       "    }\n",
       "\n",
       "    .dataframe thead th {\n",
       "        text-align: right;\n",
       "    }\n",
       "</style>\n",
       "<table border=\"1\" class=\"dataframe\">\n",
       "  <thead>\n",
       "    <tr style=\"text-align: right;\">\n",
       "      <th></th>\n",
       "      <th>email</th>\n",
       "      <th>fullname</th>\n",
       "      <th>first</th>\n",
       "      <th>last</th>\n",
       "    </tr>\n",
       "  </thead>\n",
       "  <tbody>\n",
       "    <tr>\n",
       "      <th>0</th>\n",
       "      <td>gdhong@gmail.com</td>\n",
       "      <td>Gildong Hong</td>\n",
       "      <td>Gildong</td>\n",
       "      <td>Hong</td>\n",
       "    </tr>\n",
       "    <tr>\n",
       "      <th>1</th>\n",
       "      <td>chsung@gmail.com</td>\n",
       "      <td>Chunghyang Sung</td>\n",
       "      <td>Chunghyang</td>\n",
       "      <td>Sung</td>\n",
       "    </tr>\n",
       "    <tr>\n",
       "      <th>2</th>\n",
       "      <td>mrlee@gmail.com</td>\n",
       "      <td>Mongryoung Lee</td>\n",
       "      <td>Mongryoung</td>\n",
       "      <td>Lee</td>\n",
       "    </tr>\n",
       "  </tbody>\n",
       "</table>\n",
       "</div>"
      ],
      "text/plain": [
       "              email         fullname       first  last\n",
       "0  gdhong@gmail.com     Gildong Hong     Gildong  Hong\n",
       "1  chsung@gmail.com  Chunghyang Sung  Chunghyang  Sung\n",
       "2   mrlee@gmail.com   Mongryoung Lee  Mongryoung   Lee"
      ]
     },
     "execution_count": 17,
     "metadata": {},
     "output_type": "execute_result"
    }
   ],
   "source": [
    "df"
   ]
  },
  {
   "cell_type": "markdown",
   "id": "8b7324ce",
   "metadata": {},
   "source": [
    "행을 추가 삭제하는 방법"
   ]
  },
  {
   "cell_type": "code",
   "execution_count": 18,
   "id": "29a00515",
   "metadata": {},
   "outputs": [
    {
     "data": {
      "text/html": [
       "<div>\n",
       "<style scoped>\n",
       "    .dataframe tbody tr th:only-of-type {\n",
       "        vertical-align: middle;\n",
       "    }\n",
       "\n",
       "    .dataframe tbody tr th {\n",
       "        vertical-align: top;\n",
       "    }\n",
       "\n",
       "    .dataframe thead th {\n",
       "        text-align: right;\n",
       "    }\n",
       "</style>\n",
       "<table border=\"1\" class=\"dataframe\">\n",
       "  <thead>\n",
       "    <tr style=\"text-align: right;\">\n",
       "      <th></th>\n",
       "      <th>email</th>\n",
       "      <th>fullname</th>\n",
       "      <th>first</th>\n",
       "      <th>last</th>\n",
       "    </tr>\n",
       "  </thead>\n",
       "  <tbody>\n",
       "    <tr>\n",
       "      <th>0</th>\n",
       "      <td>gdhong@gmail.com</td>\n",
       "      <td>Gildong Hong</td>\n",
       "      <td>Gildong</td>\n",
       "      <td>Hong</td>\n",
       "    </tr>\n",
       "    <tr>\n",
       "      <th>1</th>\n",
       "      <td>chsung@gmail.com</td>\n",
       "      <td>Chunghyang Sung</td>\n",
       "      <td>Chunghyang</td>\n",
       "      <td>Sung</td>\n",
       "    </tr>\n",
       "    <tr>\n",
       "      <th>2</th>\n",
       "      <td>mrlee@gmail.com</td>\n",
       "      <td>Mongryoung Lee</td>\n",
       "      <td>Mongryoung</td>\n",
       "      <td>Lee</td>\n",
       "    </tr>\n",
       "    <tr>\n",
       "      <th>3</th>\n",
       "      <td>chpark@gmail.com</td>\n",
       "      <td>NaN</td>\n",
       "      <td>chanho</td>\n",
       "      <td>Park</td>\n",
       "    </tr>\n",
       "  </tbody>\n",
       "</table>\n",
       "</div>"
      ],
      "text/plain": [
       "              email         fullname       first  last\n",
       "0  gdhong@gmail.com     Gildong Hong     Gildong  Hong\n",
       "1  chsung@gmail.com  Chunghyang Sung  Chunghyang  Sung\n",
       "2   mrlee@gmail.com   Mongryoung Lee  Mongryoung   Lee\n",
       "3  chpark@gmail.com              NaN      chanho  Park"
      ]
     },
     "execution_count": 18,
     "metadata": {},
     "output_type": "execute_result"
    }
   ],
   "source": [
    "df.append({'first' : 'chanho', 'last': 'Park', 'email':'chpark@gmail.com'}, ignore_index=True)"
   ]
  },
  {
   "cell_type": "code",
   "execution_count": 19,
   "id": "b3691597",
   "metadata": {},
   "outputs": [],
   "source": [
    "df = df.append({'first' : 'chanho', 'last': 'Park', 'email':'chpark@gmail.com'}, ignore_index=True)"
   ]
  },
  {
   "cell_type": "code",
   "execution_count": 20,
   "id": "718e0f74",
   "metadata": {
    "scrolled": false
   },
   "outputs": [
    {
     "data": {
      "text/html": [
       "<div>\n",
       "<style scoped>\n",
       "    .dataframe tbody tr th:only-of-type {\n",
       "        vertical-align: middle;\n",
       "    }\n",
       "\n",
       "    .dataframe tbody tr th {\n",
       "        vertical-align: top;\n",
       "    }\n",
       "\n",
       "    .dataframe thead th {\n",
       "        text-align: right;\n",
       "    }\n",
       "</style>\n",
       "<table border=\"1\" class=\"dataframe\">\n",
       "  <thead>\n",
       "    <tr style=\"text-align: right;\">\n",
       "      <th></th>\n",
       "      <th>email</th>\n",
       "      <th>fullname</th>\n",
       "      <th>first</th>\n",
       "      <th>last</th>\n",
       "    </tr>\n",
       "  </thead>\n",
       "  <tbody>\n",
       "    <tr>\n",
       "      <th>0</th>\n",
       "      <td>gdhong@gmail.com</td>\n",
       "      <td>Gildong Hong</td>\n",
       "      <td>Gildong</td>\n",
       "      <td>Hong</td>\n",
       "    </tr>\n",
       "    <tr>\n",
       "      <th>1</th>\n",
       "      <td>chsung@gmail.com</td>\n",
       "      <td>Chunghyang Sung</td>\n",
       "      <td>Chunghyang</td>\n",
       "      <td>Sung</td>\n",
       "    </tr>\n",
       "    <tr>\n",
       "      <th>2</th>\n",
       "      <td>mrlee@gmail.com</td>\n",
       "      <td>Mongryoung Lee</td>\n",
       "      <td>Mongryoung</td>\n",
       "      <td>Lee</td>\n",
       "    </tr>\n",
       "    <tr>\n",
       "      <th>3</th>\n",
       "      <td>chpark@gmail.com</td>\n",
       "      <td>NaN</td>\n",
       "      <td>chanho</td>\n",
       "      <td>Park</td>\n",
       "    </tr>\n",
       "  </tbody>\n",
       "</table>\n",
       "</div>"
      ],
      "text/plain": [
       "              email         fullname       first  last\n",
       "0  gdhong@gmail.com     Gildong Hong     Gildong  Hong\n",
       "1  chsung@gmail.com  Chunghyang Sung  Chunghyang  Sung\n",
       "2   mrlee@gmail.com   Mongryoung Lee  Mongryoung   Lee\n",
       "3  chpark@gmail.com              NaN      chanho  Park"
      ]
     },
     "execution_count": 20,
     "metadata": {},
     "output_type": "execute_result"
    }
   ],
   "source": [
    "df"
   ]
  },
  {
   "cell_type": "code",
   "execution_count": 23,
   "id": "a9859771",
   "metadata": {},
   "outputs": [],
   "source": [
    "people = {\n",
    "    'first' : ['Jisung', 'Youngpyo'],\n",
    "    'last' : ['Park', 'Lee'],\n",
    "    'email' : ['jspark@gmail.com', 'yplee@gmail.com']\n",
    "}"
   ]
  },
  {
   "cell_type": "code",
   "execution_count": 24,
   "id": "ff6078f1",
   "metadata": {},
   "outputs": [],
   "source": [
    "df2 = pd.DataFrame(people)"
   ]
  },
  {
   "cell_type": "code",
   "execution_count": 25,
   "id": "023b852c",
   "metadata": {},
   "outputs": [
    {
     "data": {
      "text/html": [
       "<div>\n",
       "<style scoped>\n",
       "    .dataframe tbody tr th:only-of-type {\n",
       "        vertical-align: middle;\n",
       "    }\n",
       "\n",
       "    .dataframe tbody tr th {\n",
       "        vertical-align: top;\n",
       "    }\n",
       "\n",
       "    .dataframe thead th {\n",
       "        text-align: right;\n",
       "    }\n",
       "</style>\n",
       "<table border=\"1\" class=\"dataframe\">\n",
       "  <thead>\n",
       "    <tr style=\"text-align: right;\">\n",
       "      <th></th>\n",
       "      <th>first</th>\n",
       "      <th>last</th>\n",
       "      <th>email</th>\n",
       "    </tr>\n",
       "  </thead>\n",
       "  <tbody>\n",
       "    <tr>\n",
       "      <th>0</th>\n",
       "      <td>Jisung</td>\n",
       "      <td>Park</td>\n",
       "      <td>jspark@gmail.com</td>\n",
       "    </tr>\n",
       "    <tr>\n",
       "      <th>1</th>\n",
       "      <td>Youngpyo</td>\n",
       "      <td>Lee</td>\n",
       "      <td>yplee@gmail.com</td>\n",
       "    </tr>\n",
       "  </tbody>\n",
       "</table>\n",
       "</div>"
      ],
      "text/plain": [
       "      first  last             email\n",
       "0    Jisung  Park  jspark@gmail.com\n",
       "1  Youngpyo   Lee   yplee@gmail.com"
      ]
     },
     "execution_count": 25,
     "metadata": {},
     "output_type": "execute_result"
    }
   ],
   "source": [
    "df2"
   ]
  },
  {
   "cell_type": "code",
   "execution_count": 26,
   "id": "47a4a0c0",
   "metadata": {},
   "outputs": [
    {
     "data": {
      "text/html": [
       "<div>\n",
       "<style scoped>\n",
       "    .dataframe tbody tr th:only-of-type {\n",
       "        vertical-align: middle;\n",
       "    }\n",
       "\n",
       "    .dataframe tbody tr th {\n",
       "        vertical-align: top;\n",
       "    }\n",
       "\n",
       "    .dataframe thead th {\n",
       "        text-align: right;\n",
       "    }\n",
       "</style>\n",
       "<table border=\"1\" class=\"dataframe\">\n",
       "  <thead>\n",
       "    <tr style=\"text-align: right;\">\n",
       "      <th></th>\n",
       "      <th>email</th>\n",
       "      <th>fullname</th>\n",
       "      <th>first</th>\n",
       "      <th>last</th>\n",
       "    </tr>\n",
       "  </thead>\n",
       "  <tbody>\n",
       "    <tr>\n",
       "      <th>0</th>\n",
       "      <td>gdhong@gmail.com</td>\n",
       "      <td>Gildong Hong</td>\n",
       "      <td>Gildong</td>\n",
       "      <td>Hong</td>\n",
       "    </tr>\n",
       "    <tr>\n",
       "      <th>1</th>\n",
       "      <td>chsung@gmail.com</td>\n",
       "      <td>Chunghyang Sung</td>\n",
       "      <td>Chunghyang</td>\n",
       "      <td>Sung</td>\n",
       "    </tr>\n",
       "    <tr>\n",
       "      <th>2</th>\n",
       "      <td>mrlee@gmail.com</td>\n",
       "      <td>Mongryoung Lee</td>\n",
       "      <td>Mongryoung</td>\n",
       "      <td>Lee</td>\n",
       "    </tr>\n",
       "    <tr>\n",
       "      <th>3</th>\n",
       "      <td>chpark@gmail.com</td>\n",
       "      <td>NaN</td>\n",
       "      <td>chanho</td>\n",
       "      <td>Park</td>\n",
       "    </tr>\n",
       "    <tr>\n",
       "      <th>0</th>\n",
       "      <td>jspark@gmail.com</td>\n",
       "      <td>NaN</td>\n",
       "      <td>Jisung</td>\n",
       "      <td>Park</td>\n",
       "    </tr>\n",
       "    <tr>\n",
       "      <th>1</th>\n",
       "      <td>yplee@gmail.com</td>\n",
       "      <td>NaN</td>\n",
       "      <td>Youngpyo</td>\n",
       "      <td>Lee</td>\n",
       "    </tr>\n",
       "  </tbody>\n",
       "</table>\n",
       "</div>"
      ],
      "text/plain": [
       "              email         fullname       first  last\n",
       "0  gdhong@gmail.com     Gildong Hong     Gildong  Hong\n",
       "1  chsung@gmail.com  Chunghyang Sung  Chunghyang  Sung\n",
       "2   mrlee@gmail.com   Mongryoung Lee  Mongryoung   Lee\n",
       "3  chpark@gmail.com              NaN      chanho  Park\n",
       "0  jspark@gmail.com              NaN      Jisung  Park\n",
       "1   yplee@gmail.com              NaN    Youngpyo   Lee"
      ]
     },
     "execution_count": 26,
     "metadata": {},
     "output_type": "execute_result"
    }
   ],
   "source": [
    "df.append(df2)"
   ]
  },
  {
   "cell_type": "code",
   "execution_count": 29,
   "id": "8f3e890d",
   "metadata": {},
   "outputs": [],
   "source": [
    "df = df.append(df2, ignore_index=True)"
   ]
  },
  {
   "cell_type": "markdown",
   "id": "933cefc4",
   "metadata": {},
   "source": [
    "행을 삭제해보자.  \n",
    "칼럼을 삭제하는 것과 유사하다. 칼럼을 삭제할 때와 달리 삭제하고자 하는 행의 인덱스를 \n",
    "전달하면된다."
   ]
  },
  {
   "cell_type": "code",
   "execution_count": 32,
   "id": "cbd25830",
   "metadata": {
    "scrolled": true
   },
   "outputs": [],
   "source": [
    "df.drop(index=3, inplace=True)"
   ]
  },
  {
   "cell_type": "code",
   "execution_count": 33,
   "id": "15ba5f7e",
   "metadata": {
    "scrolled": true
   },
   "outputs": [
    {
     "data": {
      "text/html": [
       "<div>\n",
       "<style scoped>\n",
       "    .dataframe tbody tr th:only-of-type {\n",
       "        vertical-align: middle;\n",
       "    }\n",
       "\n",
       "    .dataframe tbody tr th {\n",
       "        vertical-align: top;\n",
       "    }\n",
       "\n",
       "    .dataframe thead th {\n",
       "        text-align: right;\n",
       "    }\n",
       "</style>\n",
       "<table border=\"1\" class=\"dataframe\">\n",
       "  <thead>\n",
       "    <tr style=\"text-align: right;\">\n",
       "      <th></th>\n",
       "      <th>email</th>\n",
       "      <th>fullname</th>\n",
       "      <th>first</th>\n",
       "      <th>last</th>\n",
       "    </tr>\n",
       "  </thead>\n",
       "  <tbody>\n",
       "    <tr>\n",
       "      <th>0</th>\n",
       "      <td>gdhong@gmail.com</td>\n",
       "      <td>Gildong Hong</td>\n",
       "      <td>Gildong</td>\n",
       "      <td>Hong</td>\n",
       "    </tr>\n",
       "    <tr>\n",
       "      <th>1</th>\n",
       "      <td>chsung@gmail.com</td>\n",
       "      <td>Chunghyang Sung</td>\n",
       "      <td>Chunghyang</td>\n",
       "      <td>Sung</td>\n",
       "    </tr>\n",
       "    <tr>\n",
       "      <th>2</th>\n",
       "      <td>mrlee@gmail.com</td>\n",
       "      <td>Mongryoung Lee</td>\n",
       "      <td>Mongryoung</td>\n",
       "      <td>Lee</td>\n",
       "    </tr>\n",
       "    <tr>\n",
       "      <th>4</th>\n",
       "      <td>jspark@gmail.com</td>\n",
       "      <td>NaN</td>\n",
       "      <td>Jisung</td>\n",
       "      <td>Park</td>\n",
       "    </tr>\n",
       "    <tr>\n",
       "      <th>5</th>\n",
       "      <td>yplee@gmail.com</td>\n",
       "      <td>NaN</td>\n",
       "      <td>Youngpyo</td>\n",
       "      <td>Lee</td>\n",
       "    </tr>\n",
       "  </tbody>\n",
       "</table>\n",
       "</div>"
      ],
      "text/plain": [
       "              email         fullname       first  last\n",
       "0  gdhong@gmail.com     Gildong Hong     Gildong  Hong\n",
       "1  chsung@gmail.com  Chunghyang Sung  Chunghyang  Sung\n",
       "2   mrlee@gmail.com   Mongryoung Lee  Mongryoung   Lee\n",
       "4  jspark@gmail.com              NaN      Jisung  Park\n",
       "5   yplee@gmail.com              NaN    Youngpyo   Lee"
      ]
     },
     "execution_count": 33,
     "metadata": {},
     "output_type": "execute_result"
    }
   ],
   "source": [
    "df"
   ]
  },
  {
   "cell_type": "code",
   "execution_count": 34,
   "id": "d3f19088",
   "metadata": {},
   "outputs": [
    {
     "data": {
      "text/plain": [
       "0    False\n",
       "1    False\n",
       "2     True\n",
       "4    False\n",
       "5     True\n",
       "Name: last, dtype: bool"
      ]
     },
     "execution_count": 34,
     "metadata": {},
     "output_type": "execute_result"
    }
   ],
   "source": [
    "df['last']== 'Lee'"
   ]
  },
  {
   "cell_type": "code",
   "execution_count": 38,
   "id": "170cc2ca",
   "metadata": {
    "scrolled": true
   },
   "outputs": [
    {
     "data": {
      "text/plain": [
       "Int64Index([2, 5], dtype='int64')"
      ]
     },
     "execution_count": 38,
     "metadata": {},
     "output_type": "execute_result"
    }
   ],
   "source": [
    "df[df['last'] == 'Lee'].index"
   ]
  },
  {
   "cell_type": "code",
   "execution_count": 39,
   "id": "8549e923",
   "metadata": {
    "scrolled": true
   },
   "outputs": [
    {
     "data": {
      "text/html": [
       "<div>\n",
       "<style scoped>\n",
       "    .dataframe tbody tr th:only-of-type {\n",
       "        vertical-align: middle;\n",
       "    }\n",
       "\n",
       "    .dataframe tbody tr th {\n",
       "        vertical-align: top;\n",
       "    }\n",
       "\n",
       "    .dataframe thead th {\n",
       "        text-align: right;\n",
       "    }\n",
       "</style>\n",
       "<table border=\"1\" class=\"dataframe\">\n",
       "  <thead>\n",
       "    <tr style=\"text-align: right;\">\n",
       "      <th></th>\n",
       "      <th>email</th>\n",
       "      <th>fullname</th>\n",
       "      <th>first</th>\n",
       "      <th>last</th>\n",
       "    </tr>\n",
       "  </thead>\n",
       "  <tbody>\n",
       "    <tr>\n",
       "      <th>0</th>\n",
       "      <td>gdhong@gmail.com</td>\n",
       "      <td>Gildong Hong</td>\n",
       "      <td>Gildong</td>\n",
       "      <td>Hong</td>\n",
       "    </tr>\n",
       "    <tr>\n",
       "      <th>1</th>\n",
       "      <td>chsung@gmail.com</td>\n",
       "      <td>Chunghyang Sung</td>\n",
       "      <td>Chunghyang</td>\n",
       "      <td>Sung</td>\n",
       "    </tr>\n",
       "    <tr>\n",
       "      <th>4</th>\n",
       "      <td>jspark@gmail.com</td>\n",
       "      <td>NaN</td>\n",
       "      <td>Jisung</td>\n",
       "      <td>Park</td>\n",
       "    </tr>\n",
       "  </tbody>\n",
       "</table>\n",
       "</div>"
      ],
      "text/plain": [
       "              email         fullname       first  last\n",
       "0  gdhong@gmail.com     Gildong Hong     Gildong  Hong\n",
       "1  chsung@gmail.com  Chunghyang Sung  Chunghyang  Sung\n",
       "4  jspark@gmail.com              NaN      Jisung  Park"
      ]
     },
     "execution_count": 39,
     "metadata": {},
     "output_type": "execute_result"
    }
   ],
   "source": [
    "df.drop(df[df['last'] == 'Lee'].index)"
   ]
  },
  {
   "cell_type": "code",
   "execution_count": 40,
   "id": "92876d96",
   "metadata": {},
   "outputs": [],
   "source": [
    "filt = df[df['last'] == 'Lee'].index"
   ]
  },
  {
   "cell_type": "code",
   "execution_count": 42,
   "id": "393c1780",
   "metadata": {
    "scrolled": true
   },
   "outputs": [
    {
     "data": {
      "text/html": [
       "<div>\n",
       "<style scoped>\n",
       "    .dataframe tbody tr th:only-of-type {\n",
       "        vertical-align: middle;\n",
       "    }\n",
       "\n",
       "    .dataframe tbody tr th {\n",
       "        vertical-align: top;\n",
       "    }\n",
       "\n",
       "    .dataframe thead th {\n",
       "        text-align: right;\n",
       "    }\n",
       "</style>\n",
       "<table border=\"1\" class=\"dataframe\">\n",
       "  <thead>\n",
       "    <tr style=\"text-align: right;\">\n",
       "      <th></th>\n",
       "      <th>email</th>\n",
       "      <th>fullname</th>\n",
       "      <th>first</th>\n",
       "      <th>last</th>\n",
       "    </tr>\n",
       "  </thead>\n",
       "  <tbody>\n",
       "    <tr>\n",
       "      <th>0</th>\n",
       "      <td>gdhong@gmail.com</td>\n",
       "      <td>Gildong Hong</td>\n",
       "      <td>Gildong</td>\n",
       "      <td>Hong</td>\n",
       "    </tr>\n",
       "    <tr>\n",
       "      <th>1</th>\n",
       "      <td>chsung@gmail.com</td>\n",
       "      <td>Chunghyang Sung</td>\n",
       "      <td>Chunghyang</td>\n",
       "      <td>Sung</td>\n",
       "    </tr>\n",
       "    <tr>\n",
       "      <th>4</th>\n",
       "      <td>jspark@gmail.com</td>\n",
       "      <td>NaN</td>\n",
       "      <td>Jisung</td>\n",
       "      <td>Park</td>\n",
       "    </tr>\n",
       "  </tbody>\n",
       "</table>\n",
       "</div>"
      ],
      "text/plain": [
       "              email         fullname       first  last\n",
       "0  gdhong@gmail.com     Gildong Hong     Gildong  Hong\n",
       "1  chsung@gmail.com  Chunghyang Sung  Chunghyang  Sung\n",
       "4  jspark@gmail.com              NaN      Jisung  Park"
      ]
     },
     "execution_count": 42,
     "metadata": {},
     "output_type": "execute_result"
    }
   ],
   "source": [
    "df.drop(index = filt)"
   ]
  },
  {
   "cell_type": "code",
   "execution_count": 43,
   "id": "fc21de58",
   "metadata": {},
   "outputs": [
    {
     "data": {
      "text/html": [
       "<div>\n",
       "<style scoped>\n",
       "    .dataframe tbody tr th:only-of-type {\n",
       "        vertical-align: middle;\n",
       "    }\n",
       "\n",
       "    .dataframe tbody tr th {\n",
       "        vertical-align: top;\n",
       "    }\n",
       "\n",
       "    .dataframe thead th {\n",
       "        text-align: right;\n",
       "    }\n",
       "</style>\n",
       "<table border=\"1\" class=\"dataframe\">\n",
       "  <thead>\n",
       "    <tr style=\"text-align: right;\">\n",
       "      <th></th>\n",
       "      <th>email</th>\n",
       "      <th>fullname</th>\n",
       "      <th>first</th>\n",
       "      <th>last</th>\n",
       "    </tr>\n",
       "  </thead>\n",
       "  <tbody>\n",
       "    <tr>\n",
       "      <th>0</th>\n",
       "      <td>gdhong@gmail.com</td>\n",
       "      <td>Gildong Hong</td>\n",
       "      <td>Gildong</td>\n",
       "      <td>Hong</td>\n",
       "    </tr>\n",
       "    <tr>\n",
       "      <th>1</th>\n",
       "      <td>chsung@gmail.com</td>\n",
       "      <td>Chunghyang Sung</td>\n",
       "      <td>Chunghyang</td>\n",
       "      <td>Sung</td>\n",
       "    </tr>\n",
       "    <tr>\n",
       "      <th>2</th>\n",
       "      <td>mrlee@gmail.com</td>\n",
       "      <td>Mongryoung Lee</td>\n",
       "      <td>Mongryoung</td>\n",
       "      <td>Lee</td>\n",
       "    </tr>\n",
       "    <tr>\n",
       "      <th>4</th>\n",
       "      <td>jspark@gmail.com</td>\n",
       "      <td>NaN</td>\n",
       "      <td>Jisung</td>\n",
       "      <td>Park</td>\n",
       "    </tr>\n",
       "    <tr>\n",
       "      <th>5</th>\n",
       "      <td>yplee@gmail.com</td>\n",
       "      <td>NaN</td>\n",
       "      <td>Youngpyo</td>\n",
       "      <td>Lee</td>\n",
       "    </tr>\n",
       "  </tbody>\n",
       "</table>\n",
       "</div>"
      ],
      "text/plain": [
       "              email         fullname       first  last\n",
       "0  gdhong@gmail.com     Gildong Hong     Gildong  Hong\n",
       "1  chsung@gmail.com  Chunghyang Sung  Chunghyang  Sung\n",
       "2   mrlee@gmail.com   Mongryoung Lee  Mongryoung   Lee\n",
       "4  jspark@gmail.com              NaN      Jisung  Park\n",
       "5   yplee@gmail.com              NaN    Youngpyo   Lee"
      ]
     },
     "execution_count": 43,
     "metadata": {},
     "output_type": "execute_result"
    }
   ],
   "source": [
    "df"
   ]
  }
 ],
 "metadata": {
  "kernelspec": {
   "display_name": "Python 3",
   "language": "python",
   "name": "python3"
  },
  "language_info": {
   "codemirror_mode": {
    "name": "ipython",
    "version": 3
   },
   "file_extension": ".py",
   "mimetype": "text/x-python",
   "name": "python",
   "nbconvert_exporter": "python",
   "pygments_lexer": "ipython3",
   "version": "3.8.8"
  }
 },
 "nbformat": 4,
 "nbformat_minor": 5
}
